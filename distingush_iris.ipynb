{
  "nbformat": 4,
  "nbformat_minor": 0,
  "metadata": {
    "colab": {
      "name": "Untitled3.ipynb",
      "provenance": [],
      "authorship_tag": "ABX9TyO+AlZ4k56zeQcUfrTtjT89",
      "include_colab_link": true
    },
    "kernelspec": {
      "name": "python3",
      "display_name": "Python 3"
    }
  },
  "cells": [
    {
      "cell_type": "markdown",
      "metadata": {
        "id": "view-in-github",
        "colab_type": "text"
      },
      "source": [
        "<a href=\"https://colab.research.google.com/github/HeekyungKim6424/exa_machine-learning/blob/main/distingush_iris.ipynb\" target=\"_parent\"><img src=\"https://colab.research.google.com/assets/colab-badge.svg\" alt=\"Open In Colab\"/></a>"
      ]
    },
    {
      "cell_type": "code",
      "metadata": {
        "id": "ouYqQBT8Ydnl"
      },
      "source": [
        "#라이브러리 사용\r\n",
        "\r\n",
        "import tensorflow as tf\r\n",
        "import pandas as pd"
      ],
      "execution_count": 2,
      "outputs": []
    },
    {
      "cell_type": "code",
      "metadata": {
        "colab": {
          "base_uri": "https://localhost:8080/",
          "height": 202
        },
        "id": "g_mqY-SJYy74",
        "outputId": "7e921918-2b5a-45b2-ffa8-62817f4fc960"
      },
      "source": [
        "#데이터 준비하기\r\n",
        "\r\n",
        "파일경로 = 'https://raw.githubusercontent.com/blackdew/tensorflow1/master/csv/iris.csv'\r\n",
        "아이리스 = pd.read_csv(파일경로)\r\n",
        "아이리스.head()"
      ],
      "execution_count": 3,
      "outputs": [
        {
          "output_type": "execute_result",
          "data": {
            "text/html": [
              "<div>\n",
              "<style scoped>\n",
              "    .dataframe tbody tr th:only-of-type {\n",
              "        vertical-align: middle;\n",
              "    }\n",
              "\n",
              "    .dataframe tbody tr th {\n",
              "        vertical-align: top;\n",
              "    }\n",
              "\n",
              "    .dataframe thead th {\n",
              "        text-align: right;\n",
              "    }\n",
              "</style>\n",
              "<table border=\"1\" class=\"dataframe\">\n",
              "  <thead>\n",
              "    <tr style=\"text-align: right;\">\n",
              "      <th></th>\n",
              "      <th>꽃잎길이</th>\n",
              "      <th>꽃잎폭</th>\n",
              "      <th>꽃받침길이</th>\n",
              "      <th>꽃받침폭</th>\n",
              "      <th>품종</th>\n",
              "    </tr>\n",
              "  </thead>\n",
              "  <tbody>\n",
              "    <tr>\n",
              "      <th>0</th>\n",
              "      <td>5.1</td>\n",
              "      <td>3.5</td>\n",
              "      <td>1.4</td>\n",
              "      <td>0.2</td>\n",
              "      <td>setosa</td>\n",
              "    </tr>\n",
              "    <tr>\n",
              "      <th>1</th>\n",
              "      <td>4.9</td>\n",
              "      <td>3.0</td>\n",
              "      <td>1.4</td>\n",
              "      <td>0.2</td>\n",
              "      <td>setosa</td>\n",
              "    </tr>\n",
              "    <tr>\n",
              "      <th>2</th>\n",
              "      <td>4.7</td>\n",
              "      <td>3.2</td>\n",
              "      <td>1.3</td>\n",
              "      <td>0.2</td>\n",
              "      <td>setosa</td>\n",
              "    </tr>\n",
              "    <tr>\n",
              "      <th>3</th>\n",
              "      <td>4.6</td>\n",
              "      <td>3.1</td>\n",
              "      <td>1.5</td>\n",
              "      <td>0.2</td>\n",
              "      <td>setosa</td>\n",
              "    </tr>\n",
              "    <tr>\n",
              "      <th>4</th>\n",
              "      <td>5.0</td>\n",
              "      <td>3.6</td>\n",
              "      <td>1.4</td>\n",
              "      <td>0.2</td>\n",
              "      <td>setosa</td>\n",
              "    </tr>\n",
              "  </tbody>\n",
              "</table>\n",
              "</div>"
            ],
            "text/plain": [
              "   꽃잎길이  꽃잎폭  꽃받침길이  꽃받침폭      품종\n",
              "0   5.1  3.5    1.4   0.2  setosa\n",
              "1   4.9  3.0    1.4   0.2  setosa\n",
              "2   4.7  3.2    1.3   0.2  setosa\n",
              "3   4.6  3.1    1.5   0.2  setosa\n",
              "4   5.0  3.6    1.4   0.2  setosa"
            ]
          },
          "metadata": {
            "tags": []
          },
          "execution_count": 3
        }
      ]
    },
    {
      "cell_type": "code",
      "metadata": {
        "id": "8r3elzjHZKFw"
      },
      "source": [
        "#원핫인코딩\r\n",
        "아이리스 = pd.get_dummies(아이리스)\r\n",
        "\r\n",
        "#원핫인코딩은 변수가 범주형 함수일때 사용하는 코드라고 한다.\r\n",
        "#조금 더 찾아보니 (사실 내용은 거기서 거기였음..) 숫자가 아닌objec 형의 데이터들이 있다면\r\n",
        "#먼저 수치형으로 데이터를 변환 해주고\r\n",
        "#다시 수치화된 데이터를 가변수화 시킨다고 한다.\r\n",
        "#왜 굳이 다시 가변수화 시키는거야?? 생각한다면 수치화시킨채로 데이터를 냅두면 서로 관계성이 생겨버린다.\r\n",
        "#예를들어 빨강을 1로 하고 노랑을 2로 하면 1+2=3 이렇게 관계성이 존재하게 된다.\r\n",
        "\r\n",
        "#get_dummies 함수를 사용하면 결측값을 제외하고 0과 1로 구성된 더미값들이 만들어진다."
      ],
      "execution_count": 4,
      "outputs": []
    },
    {
      "cell_type": "code",
      "metadata": {
        "colab": {
          "base_uri": "https://localhost:8080/"
        },
        "id": "PpCTZmrJa7kO",
        "outputId": "80d0fba0-6d63-42ef-ac75-a7ed3f9eaa79"
      },
      "source": [
        "#종속변수, 독립변수 \r\n",
        "\r\n",
        "print(아이리스.columns)\r\n",
        "독립 = 아이리스[['꽃잎길이', '꽃잎폭', '꽃받침길이', '꽃받침폭']]\r\n",
        "종속 = 아이리스[['품종_setosa', '품종_versicolor','품종_virginica']]\r\n",
        "print(독립.shape, 종속.shape)"
      ],
      "execution_count": 5,
      "outputs": [
        {
          "output_type": "stream",
          "text": [
            "Index(['꽃잎길이', '꽃잎폭', '꽃받침길이', '꽃받침폭', '품종_setosa', '품종_versicolor',\n",
            "       '품종_virginica'],\n",
            "      dtype='object')\n",
            "(150, 4) (150, 3)\n"
          ],
          "name": "stdout"
        }
      ]
    },
    {
      "cell_type": "code",
      "metadata": {
        "id": "oCvDE8TgcE0j"
      },
      "source": [
        "#모델의 구조 만들기\r\n",
        "\r\n",
        "X = tf.keras.layers.Input(shape=[4])\r\n",
        "Y = tf.keras.layers.Dense(3, activation='softmax')(X) \r\n",
        "model = tf.keras.models.Model(X,Y)\r\n",
        "model.compile(loss='categorical_crossentropy',metrics='accuracy')\r\n",
        "\r\n",
        "#categorial_crosssentropy에 대해\r\n",
        "#강사분께서 저게 뭘 의미하는지 보다 케이스에 때라 로스 값을 달리 적용하는것만 알면 된다고 하셨는데\r\n",
        "#나는 한번 의문이 생기면 해결이 되야 직성이 풀리는 타입이라 찾아봤다.\r\n",
        "#categorial_crosssentropy는 다중분류 손실함수라고 하는데 아마 핫인코딩 클래스에서만 사용이 가능한것 같다.\r\n",
        "\r\n",
        "#metrics='accuracy'\r\n",
        "#metrics는 모델의 성능을 평가하는 측정함수를 담는 변수다.\r\n",
        "#여기선 아마 정확한값을 성능으로 평가하는거겠지?"
      ],
      "execution_count": 8,
      "outputs": []
    },
    {
      "cell_type": "code",
      "metadata": {
        "id": "8OJl7_DVc9bs"
      },
      "source": [
        "#Dense 함수에 들어가는 요소들은 다음과 같다.\r\n",
        "\r\n",
        "# 첫번째 인자: 출력 뉴런의 수를 설정\r\n",
        "# input_dim : 입력 뉴런의 수를 설정합니다.\r\n",
        "# init:가중치 초기화 방법을 설정(uniform은 균일분포, normal은 가우시안 분포)\r\n",
        "# activation:활성화 함수 설정 \r\n",
        "# linear 은 디폴트 값, 입력뉴런과 가중치로 계산된 결과값이 그대로 출력으로 나옵니다.\r\n",
        "# relu, rectifier은 함수 은닉층에 주로 쓰입니다.\r\n",
        "\r\n",
        "# sigmoid 시그모이드 함수, 이진 분류 문제에서 출력층에 주로 쓰입니다.\r\n",
        "# softmax 소프트 맥스 함수, 다중 클래스 분류 문제에서 출력층에 주로 쓰입니다.\r\n",
        "# softmax는 분류 예측을 도와주는 함수다. 분류 예측은 어떤 확률을 0~100%까지 숫자로 예측 하는것"
      ],
      "execution_count": 9,
      "outputs": []
    },
    {
      "cell_type": "code",
      "metadata": {
        "colab": {
          "base_uri": "https://localhost:8080/"
        },
        "id": "8HfViTbJeCOR",
        "outputId": "dcb1ce55-3860-4e19-849c-eb634085cbcc"
      },
      "source": [
        "#데이터로 모델 학습하기\r\n",
        "\r\n",
        "model.fit(독립, 종속, epochs=1000, verbose=0)\r\n",
        "model.fit(독립, 종속, epochs=10)"
      ],
      "execution_count": 10,
      "outputs": [
        {
          "output_type": "stream",
          "text": [
            "Epoch 1/10\n",
            "5/5 [==============================] - 0s 2ms/step - loss: 0.1669 - accuracy: 0.9733\n",
            "Epoch 2/10\n",
            "5/5 [==============================] - 0s 3ms/step - loss: 0.1663 - accuracy: 0.9733\n",
            "Epoch 3/10\n",
            "5/5 [==============================] - 0s 2ms/step - loss: 0.1662 - accuracy: 0.9733\n",
            "Epoch 4/10\n",
            "5/5 [==============================] - 0s 2ms/step - loss: 0.1664 - accuracy: 0.9733\n",
            "Epoch 5/10\n",
            "5/5 [==============================] - 0s 2ms/step - loss: 0.1656 - accuracy: 0.9733\n",
            "Epoch 6/10\n",
            "5/5 [==============================] - 0s 2ms/step - loss: 0.1656 - accuracy: 0.9733\n",
            "Epoch 7/10\n",
            "5/5 [==============================] - 0s 2ms/step - loss: 0.1658 - accuracy: 0.9733\n",
            "Epoch 8/10\n",
            "5/5 [==============================] - 0s 2ms/step - loss: 0.1656 - accuracy: 0.9733\n",
            "Epoch 9/10\n",
            "5/5 [==============================] - 0s 2ms/step - loss: 0.1658 - accuracy: 0.9733\n",
            "Epoch 10/10\n",
            "5/5 [==============================] - 0s 1ms/step - loss: 0.1653 - accuracy: 0.9733\n"
          ],
          "name": "stdout"
        },
        {
          "output_type": "execute_result",
          "data": {
            "text/plain": [
              "<tensorflow.python.keras.callbacks.History at 0x7fbefcc06e80>"
            ]
          },
          "metadata": {
            "tags": []
          },
          "execution_count": 10
        }
      ]
    },
    {
      "cell_type": "code",
      "metadata": {
        "colab": {
          "base_uri": "https://localhost:8080/"
        },
        "id": "lksC2q-PeoOi",
        "outputId": "7ec9faca-5803-491d-863f-01af255411b1"
      },
      "source": [
        "#모델 이용하기\r\n",
        "\r\n",
        "#맨마지막 데이터 5개\r\n",
        "print(model.predict(독립[-5:]))\r\n",
        "print(종속[-5:])"
      ],
      "execution_count": 13,
      "outputs": [
        {
          "output_type": "stream",
          "text": [
            "[[4.6019400e-07 9.7699463e-02 9.0230006e-01]\n",
            " [1.1699966e-06 1.4076304e-01 8.5923576e-01]\n",
            " [1.9581462e-06 2.2500677e-01 7.7499127e-01]\n",
            " [3.5224616e-07 1.4740717e-01 8.5259247e-01]\n",
            " [3.7763182e-06 3.4551793e-01 6.5447831e-01]]\n",
            "     품종_setosa  품종_versicolor  품종_virginica\n",
            "145          0              0             1\n",
            "146          0              0             1\n",
            "147          0              0             1\n",
            "148          0              0             1\n",
            "149          0              0             1\n"
          ],
          "name": "stdout"
        }
      ]
    },
    {
      "cell_type": "code",
      "metadata": {
        "colab": {
          "base_uri": "https://localhost:8080/"
        },
        "id": "ZonUYLP1e5qb",
        "outputId": "c434d4a1-baff-4118-812b-5d735437de4d"
      },
      "source": [
        "#weights& bias 출력\r\n",
        "print(model.get_weights())\r\n",
        "\r\n",
        "#퍼셉트론 식에서 붙는 w값과 b값을 출력하는 코드\r\n",
        "#퍼셉트론 식은 y=w1x1+w2x2+w3x3+b 이런 꼴이다."
      ],
      "execution_count": 14,
      "outputs": [
        {
          "output_type": "stream",
          "text": [
            "[array([[ 1.6352049 ,  0.43566033,  0.08688009],\n",
            "       [ 2.4008212 ,  0.70605314, -1.4155313 ],\n",
            "       [-4.089864  , -0.30608985,  0.7252884 ],\n",
            "       [-4.2722144 , -1.4262813 ,  2.094005  ]], dtype=float32), array([ 1.9436191,  1.1093602, -1.4258335], dtype=float32)]\n"
          ],
          "name": "stdout"
        }
      ]
    }
  ]
}