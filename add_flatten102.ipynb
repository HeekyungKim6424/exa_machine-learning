{
  "nbformat": 4,
  "nbformat_minor": 0,
  "metadata": {
    "colab": {
      "name": "Untitled8.ipynb",
      "provenance": [],
      "authorship_tag": "ABX9TyNADNN7KDu7n7TNqULvrtb/",
      "include_colab_link": true
    },
    "kernelspec": {
      "name": "python3",
      "display_name": "Python 3"
    }
  },
  "cells": [
    {
      "cell_type": "markdown",
      "metadata": {
        "id": "view-in-github",
        "colab_type": "text"
      },
      "source": [
        "<a href=\"https://colab.research.google.com/github/HeekyungKim6424/exa_machine-learning/blob/main/add_flatten102.ipynb\" target=\"_parent\"><img src=\"https://colab.research.google.com/assets/colab-badge.svg\" alt=\"Open In Colab\"/></a>"
      ]
    },
    {
      "cell_type": "markdown",
      "metadata": {
        "id": "mfVSjYPfwHzS"
      },
      "source": [
        "#Reshape 버전"
      ]
    },
    {
      "cell_type": "markdown",
      "metadata": {
        "id": "R3oBpl9Jpzcw"
      },
      "source": [
        "1.라이브러리 이용"
      ]
    },
    {
      "cell_type": "code",
      "metadata": {
        "id": "rjG7DScppxQU"
      },
      "source": [
        "import tensorflow as tf\r\n",
        "import pandas as pd"
      ],
      "execution_count": 2,
      "outputs": []
    },
    {
      "cell_type": "markdown",
      "metadata": {
        "id": "dn6ohfY-038y"
      },
      "source": [
        "2.데이터 준비"
      ]
    },
    {
      "cell_type": "code",
      "metadata": {
        "colab": {
          "base_uri": "https://localhost:8080/"
        },
        "id": "XHzlheX2sNt9",
        "outputId": "87ca62fd-e6d0-4f33-86eb-6130b0926e80"
      },
      "source": [
        "(독립, 종속), _=tf.keras.datasets.mnist.load_data()\r\n",
        "독립 =  독립.reshape(60000, 784)\r\n",
        "종속 = pd.get_dummies(종속)\r\n",
        "print(독립.shape, 종속.shape)"
      ],
      "execution_count": 4,
      "outputs": [
        {
          "output_type": "stream",
          "text": [
            "Downloading data from https://storage.googleapis.com/tensorflow/tf-keras-datasets/mnist.npz\n",
            "11493376/11490434 [==============================] - 0s 0us/step\n",
            "(60000, 784) (60000, 10)\n"
          ],
          "name": "stdout"
        }
      ]
    },
    {
      "cell_type": "markdown",
      "metadata": {
        "id": "jqbAY4RnwM2X"
      },
      "source": [
        "여기서 두번째 코드의 784라는 값은 28*28의 결과로 <br>\r\n",
        "28행 28열로 이루어져있는 이미지를 표로 저장시켜서 모델을 만들어야 하므로<br> 28*28 안에 들어있는 784개의 값들을 한 행으로 처리하여 <br>\r\n",
        "총 60000장의 이미지를 표로 만들어서 총 60000행 784열의 행열이 만들어지는 것이다"
      ]
    },
    {
      "cell_type": "markdown",
      "metadata": {
        "id": "NzJ_Gh_Z07Ef"
      },
      "source": [
        "3.모델 만들기"
      ]
    },
    {
      "cell_type": "code",
      "metadata": {
        "id": "5Vs0CLNivi-a"
      },
      "source": [
        "X = tf.keras.layers.Input(shape=[784])\r\n",
        "H = tf.keras.layers.Dense(84, activation='swish')(X)\r\n",
        "Y = tf.keras.layers.Dense(10, activation='softmax')(H)\r\n",
        "model=tf.keras.models.Model(X,Y)\r\n",
        "model.compile(loss='categorical_crossentropy',metrics='accuracy')"
      ],
      "execution_count": 7,
      "outputs": []
    },
    {
      "cell_type": "markdown",
      "metadata": {
        "id": "lj7OHrBlz3L_"
      },
      "source": [
        "activation='swish'가 무슨 의미인지 몰라서 검색해봤더니 구글이 고안해낸 기존의 활성화 함수보다 더 업그레이드 된 함수라고 한다. 정확도가 더 높다고 한다. <br>\r\n",
        "근데 일단 활성화 함수 자체가 자신이 어떤 함수를 활성화 시킬지 결정하는거여서 저렇게 코드에 써진것도 강사분이 정해놓은것이다.<br>\r\n",
        "저 코드가 무조건적인 정답이 아니라는것이다.<br>\r\n",
        "이 부분을 내가 직접 결정하기 위해서는 내가 활성화 함수가 어떤것들이 있는지 알아야겠다.<br> 그리고 함수가 어떻게 작동되는건지 수학 또한 배워야할것 같다.<br>\r\n",
        "결국 이렇게 다시 수학으로 회귀하는구나....."
      ]
    },
    {
      "cell_type": "markdown",
      "metadata": {
        "id": "Qfdcsrcq0-Eq"
      },
      "source": [
        "4. 모델 학습시키기"
      ]
    },
    {
      "cell_type": "code",
      "metadata": {
        "colab": {
          "base_uri": "https://localhost:8080/"
        },
        "id": "YhfniadcvkeI",
        "outputId": "89c96ce2-c566-4e13-e058-7d0c4da70e90"
      },
      "source": [
        "model.fit(독립, 종속, epochs=10)"
      ],
      "execution_count": 10,
      "outputs": [
        {
          "output_type": "stream",
          "text": [
            "Epoch 1/10\n",
            "1875/1875 [==============================] - 5s 2ms/step - loss: 8.0136 - accuracy: 0.8117\n",
            "Epoch 2/10\n",
            "1875/1875 [==============================] - 4s 2ms/step - loss: 0.5749 - accuracy: 0.9137\n",
            "Epoch 3/10\n",
            "1875/1875 [==============================] - 4s 2ms/step - loss: 0.4548 - accuracy: 0.9358\n",
            "Epoch 4/10\n",
            "1875/1875 [==============================] - 5s 3ms/step - loss: 0.4105 - accuracy: 0.9395\n",
            "Epoch 5/10\n",
            "1875/1875 [==============================] - 4s 2ms/step - loss: 0.3820 - accuracy: 0.9469\n",
            "Epoch 6/10\n",
            "1875/1875 [==============================] - 4s 2ms/step - loss: 0.3573 - accuracy: 0.9484\n",
            "Epoch 7/10\n",
            "1875/1875 [==============================] - 4s 2ms/step - loss: 0.3554 - accuracy: 0.9518\n",
            "Epoch 8/10\n",
            "1875/1875 [==============================] - 4s 2ms/step - loss: 0.3478 - accuracy: 0.9552\n",
            "Epoch 9/10\n",
            "1875/1875 [==============================] - 4s 2ms/step - loss: 0.3300 - accuracy: 0.9551\n",
            "Epoch 10/10\n",
            "1875/1875 [==============================] - 4s 2ms/step - loss: 0.3235 - accuracy: 0.9556\n"
          ],
          "name": "stdout"
        },
        {
          "output_type": "execute_result",
          "data": {
            "text/plain": [
              "<tensorflow.python.keras.callbacks.History at 0x7ff906dbb630>"
            ]
          },
          "metadata": {
            "tags": []
          },
          "execution_count": 10
        }
      ]
    },
    {
      "cell_type": "markdown",
      "metadata": {
        "id": "rit3Taj01BOr"
      },
      "source": [
        "5.모델 이용하기"
      ]
    },
    {
      "cell_type": "code",
      "metadata": {
        "colab": {
          "base_uri": "https://localhost:8080/"
        },
        "id": "rvZG3wgavqb2",
        "outputId": "66a2e9a4-7085-44d0-f267-73f20d1b646b"
      },
      "source": [
        "pred = model.predict(독립[0:5])\r\n",
        "print(pd.DataFrame(pred).round(2))\r\n",
        "print(종속[0:5])"
      ],
      "execution_count": 11,
      "outputs": [
        {
          "output_type": "stream",
          "text": [
            "     0    1    2    3    4    5    6    7    8    9\n",
            "0  0.0  0.0  0.0  0.0  0.0  1.0  0.0  0.0  0.0  0.0\n",
            "1  1.0  0.0  0.0  0.0  0.0  0.0  0.0  0.0  0.0  0.0\n",
            "2  0.0  0.0  0.0  0.0  1.0  0.0  0.0  0.0  0.0  0.0\n",
            "3  0.0  1.0  0.0  0.0  0.0  0.0  0.0  0.0  0.0  0.0\n",
            "4  0.0  0.0  0.0  0.0  0.0  0.0  0.0  0.0  0.0  1.0\n",
            "   0  1  2  3  4  5  6  7  8  9\n",
            "0  0  0  0  0  0  1  0  0  0  0\n",
            "1  1  0  0  0  0  0  0  0  0  0\n",
            "2  0  0  0  0  1  0  0  0  0  0\n",
            "3  0  1  0  0  0  0  0  0  0  0\n",
            "4  0  0  0  0  0  0  0  0  0  1\n"
          ],
          "name": "stdout"
        }
      ]
    },
    {
      "cell_type": "markdown",
      "metadata": {
        "id": "wbVFJl7N1xml"
      },
      "source": [
        "#flatten 버전"
      ]
    },
    {
      "cell_type": "markdown",
      "metadata": {
        "id": "rzba-y3p2fuG"
      },
      "source": [
        "1.데이터 준비하기"
      ]
    },
    {
      "cell_type": "code",
      "metadata": {
        "colab": {
          "base_uri": "https://localhost:8080/"
        },
        "id": "4x9SXJEj19up",
        "outputId": "87ad6d68-cbd7-4302-9ac6-92a22f59391b"
      },
      "source": [
        "(독립, 종속),_=tf.keras.datasets.mnist.load_data()\r\n",
        "종속=pd.get_dummies(종속)\r\n",
        "print(독립.shape, 종속.shape)"
      ],
      "execution_count": 12,
      "outputs": [
        {
          "output_type": "stream",
          "text": [
            "(60000, 28, 28) (60000, 10)\n"
          ],
          "name": "stdout"
        }
      ]
    },
    {
      "cell_type": "markdown",
      "metadata": {
        "id": "GcW2hsOi2jVC"
      },
      "source": [
        "위의 코드가 전 버전과 다른점은 리쉐입 코드가 사라졌다는 것이다."
      ]
    },
    {
      "cell_type": "markdown",
      "metadata": {
        "id": "e0Hlv7RE2uOS"
      },
      "source": [
        "2.모델 만들기"
      ]
    },
    {
      "cell_type": "code",
      "metadata": {
        "id": "-gxGa-4J2tWH"
      },
      "source": [
        "X = tf.keras.layers.Input(shape=[28, 28])\r\n",
        "H = tf.keras.layers.Flatten()(X)\r\n",
        "H = tf.keras.layers.Dense(84, activation='swish')(H)\r\n",
        "Y = tf.keras.layers.Dense(10, activation='softmax')(H)\r\n",
        "model = tf.keras.models.Model(X, Y)\r\n",
        "model.compile(loss='categorical_crossentropy', metrics='accuracy')"
      ],
      "execution_count": 14,
      "outputs": []
    },
    {
      "cell_type": "markdown",
      "metadata": {
        "id": "Tr8FXeLR3KMR"
      },
      "source": [
        "Flatten는 하나의 차원으로 축소 된 배열의 복사본을 반환한다.<br>\r\n",
        "일차원으로 축소한다는 점에서 reshape보다는 역할이 축소된것 같지만, 어쨋든 해당 코드내에서는 같은 역할을 하고 있다.<br>\r\n",
        "그럼 왜 굳이 Flatten을 사용하는거지? 이것까지는 아직 찾지 못했다."
      ]
    },
    {
      "cell_type": "markdown",
      "metadata": {
        "id": "l2acZAd24Z7N"
      },
      "source": [
        "3.모델 만들기"
      ]
    },
    {
      "cell_type": "code",
      "metadata": {
        "colab": {
          "base_uri": "https://localhost:8080/"
        },
        "id": "blSorX4-4ZEl",
        "outputId": "bbd3bb2e-ce50-41ed-f5eb-e5200ada8092"
      },
      "source": [
        "model.fit(독립, 종속, epochs=10)"
      ],
      "execution_count": 15,
      "outputs": [
        {
          "output_type": "stream",
          "text": [
            "Epoch 1/10\n",
            "1875/1875 [==============================] - 5s 2ms/step - loss: 6.5478 - accuracy: 0.7986\n",
            "Epoch 2/10\n",
            "1875/1875 [==============================] - 4s 2ms/step - loss: 0.4946 - accuracy: 0.9141\n",
            "Epoch 3/10\n",
            "1875/1875 [==============================] - 4s 2ms/step - loss: 0.4076 - accuracy: 0.9330\n",
            "Epoch 4/10\n",
            "1875/1875 [==============================] - 4s 2ms/step - loss: 0.3711 - accuracy: 0.9392\n",
            "Epoch 5/10\n",
            "1875/1875 [==============================] - 4s 2ms/step - loss: 0.3635 - accuracy: 0.9413\n",
            "Epoch 6/10\n",
            "1875/1875 [==============================] - 4s 2ms/step - loss: 0.3412 - accuracy: 0.9464\n",
            "Epoch 7/10\n",
            "1875/1875 [==============================] - 5s 2ms/step - loss: 0.3405 - accuracy: 0.9466\n",
            "Epoch 8/10\n",
            "1875/1875 [==============================] - 5s 2ms/step - loss: 0.3379 - accuracy: 0.9475\n",
            "Epoch 9/10\n",
            "1875/1875 [==============================] - 4s 2ms/step - loss: 0.3358 - accuracy: 0.9493\n",
            "Epoch 10/10\n",
            "1875/1875 [==============================] - 4s 2ms/step - loss: 0.3153 - accuracy: 0.9516\n"
          ],
          "name": "stdout"
        },
        {
          "output_type": "execute_result",
          "data": {
            "text/plain": [
              "<tensorflow.python.keras.callbacks.History at 0x7ff903dbe828>"
            ]
          },
          "metadata": {
            "tags": []
          },
          "execution_count": 15
        }
      ]
    },
    {
      "cell_type": "markdown",
      "metadata": {
        "id": "4kqiMFXp4hAc"
      },
      "source": [
        "4.모델이용하기"
      ]
    },
    {
      "cell_type": "code",
      "metadata": {
        "colab": {
          "base_uri": "https://localhost:8080/"
        },
        "id": "qzooGxQS4jkP",
        "outputId": "464aeb29-2bb9-4e90-c376-5f15ed64718a"
      },
      "source": [
        "pred = model.predict(독립[0:5])\r\n",
        "print(pd.DataFrame(pred).round(2))\r\n",
        "print(종속[0:5])"
      ],
      "execution_count": 16,
      "outputs": [
        {
          "output_type": "stream",
          "text": [
            "     0    1    2    3    4    5    6    7    8    9\n",
            "0  0.0  0.0  0.0  0.0  0.0  1.0  0.0  0.0  0.0  0.0\n",
            "1  1.0  0.0  0.0  0.0  0.0  0.0  0.0  0.0  0.0  0.0\n",
            "2  0.0  0.0  0.0  0.0  1.0  0.0  0.0  0.0  0.0  0.0\n",
            "3  0.0  1.0  0.0  0.0  0.0  0.0  0.0  0.0  0.0  0.0\n",
            "4  0.0  0.0  0.0  0.0  0.0  0.0  0.0  0.0  0.0  1.0\n",
            "   0  1  2  3  4  5  6  7  8  9\n",
            "0  0  0  0  0  0  1  0  0  0  0\n",
            "1  1  0  0  0  0  0  0  0  0  0\n",
            "2  0  0  0  0  1  0  0  0  0  0\n",
            "3  0  1  0  0  0  0  0  0  0  0\n",
            "4  0  0  0  0  0  0  0  0  0  1\n"
          ],
          "name": "stdout"
        }
      ]
    }
  ]
}