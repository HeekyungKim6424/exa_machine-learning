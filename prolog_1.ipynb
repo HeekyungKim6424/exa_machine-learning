{
  "nbformat": 4,
  "nbformat_minor": 0,
  "metadata": {
    "colab": {
      "name": "Untitled4.ipynb",
      "provenance": [],
      "authorship_tag": "ABX9TyMVp8SxtJGNVeZ2lu+fY/wz",
      "include_colab_link": true
    },
    "kernelspec": {
      "name": "python3",
      "display_name": "Python 3"
    }
  },
  "cells": [
    {
      "cell_type": "markdown",
      "metadata": {
        "id": "view-in-github",
        "colab_type": "text"
      },
      "source": [
        "<a href=\"https://colab.research.google.com/github/HeekyungKim6424/exa_machine-learning/blob/main/prolog_1.ipynb\" target=\"_parent\"><img src=\"https://colab.research.google.com/assets/colab-badge.svg\" alt=\"Open In Colab\"/></a>"
      ]
    },
    {
      "cell_type": "code",
      "metadata": {
        "id": "t3G6xuyGgjHJ"
      },
      "source": [
        "#부록1 코드인데 r과 비슷한 코드가 많아서 놀랐다.\r\n",
        "#요즘 r배우고 있는데 도움이 되었다는 생각을 많이 하였다."
      ],
      "execution_count": null,
      "outputs": []
    },
    {
      "cell_type": "code",
      "metadata": {
        "id": "vUAffD3llyIU"
      },
      "source": [
        "#라이브러리\r\n",
        "\r\n",
        "import pandas as pd"
      ],
      "execution_count": 1,
      "outputs": []
    },
    {
      "cell_type": "code",
      "metadata": {
        "colab": {
          "base_uri": "https://localhost:8080/",
          "height": 202
        },
        "id": "ktx2Mb5Ll4Xx",
        "outputId": "b1fce372-5678-46dc-c1b9-a84ab25e9ae6"
      },
      "source": [
        "#파일 읽어오기\r\n",
        "\r\n",
        "파일경로 = 'https://raw.githubusercontent.com/blackdew/tensorflow1/master/csv/iris2.csv'\r\n",
        "아이리스 = pd.read_csv(파일경로)\r\n",
        "아이리스.head()"
      ],
      "execution_count": 2,
      "outputs": [
        {
          "output_type": "execute_result",
          "data": {
            "text/html": [
              "<div>\n",
              "<style scoped>\n",
              "    .dataframe tbody tr th:only-of-type {\n",
              "        vertical-align: middle;\n",
              "    }\n",
              "\n",
              "    .dataframe tbody tr th {\n",
              "        vertical-align: top;\n",
              "    }\n",
              "\n",
              "    .dataframe thead th {\n",
              "        text-align: right;\n",
              "    }\n",
              "</style>\n",
              "<table border=\"1\" class=\"dataframe\">\n",
              "  <thead>\n",
              "    <tr style=\"text-align: right;\">\n",
              "      <th></th>\n",
              "      <th>꽃잎길이</th>\n",
              "      <th>꽃잎폭</th>\n",
              "      <th>꽃받침길이</th>\n",
              "      <th>꽃받침폭</th>\n",
              "      <th>품종</th>\n",
              "    </tr>\n",
              "  </thead>\n",
              "  <tbody>\n",
              "    <tr>\n",
              "      <th>0</th>\n",
              "      <td>5.1</td>\n",
              "      <td>3.5</td>\n",
              "      <td>1.4</td>\n",
              "      <td>0.2</td>\n",
              "      <td>0</td>\n",
              "    </tr>\n",
              "    <tr>\n",
              "      <th>1</th>\n",
              "      <td>4.9</td>\n",
              "      <td>3.0</td>\n",
              "      <td>1.4</td>\n",
              "      <td>0.2</td>\n",
              "      <td>0</td>\n",
              "    </tr>\n",
              "    <tr>\n",
              "      <th>2</th>\n",
              "      <td>4.7</td>\n",
              "      <td>3.2</td>\n",
              "      <td>1.3</td>\n",
              "      <td>0.2</td>\n",
              "      <td>0</td>\n",
              "    </tr>\n",
              "    <tr>\n",
              "      <th>3</th>\n",
              "      <td>4.6</td>\n",
              "      <td>3.1</td>\n",
              "      <td>1.5</td>\n",
              "      <td>0.2</td>\n",
              "      <td>0</td>\n",
              "    </tr>\n",
              "    <tr>\n",
              "      <th>4</th>\n",
              "      <td>5.0</td>\n",
              "      <td>3.6</td>\n",
              "      <td>1.4</td>\n",
              "      <td>0.2</td>\n",
              "      <td>0</td>\n",
              "    </tr>\n",
              "  </tbody>\n",
              "</table>\n",
              "</div>"
            ],
            "text/plain": [
              "   꽃잎길이  꽃잎폭  꽃받침길이  꽃받침폭  품종\n",
              "0   5.1  3.5    1.4   0.2   0\n",
              "1   4.9  3.0    1.4   0.2   0\n",
              "2   4.7  3.2    1.3   0.2   0\n",
              "3   4.6  3.1    1.5   0.2   0\n",
              "4   5.0  3.6    1.4   0.2   0"
            ]
          },
          "metadata": {
            "tags": []
          },
          "execution_count": 2
        }
      ]
    },
    {
      "cell_type": "code",
      "metadata": {
        "colab": {
          "base_uri": "https://localhost:8080/"
        },
        "id": "WhLFOqqUmJgC",
        "outputId": "35dcf877-ebfc-46b8-800f-e3e48454a00f"
      },
      "source": [
        "#칼럼(행)의 데이터 타입 체크\r\n",
        "print(아이리스.dtypes)"
      ],
      "execution_count": 3,
      "outputs": [
        {
          "output_type": "stream",
          "text": [
            "꽃잎길이     float64\n",
            "꽃잎폭      float64\n",
            "꽃받침길이    float64\n",
            "꽃받침폭     float64\n",
            "품종         int64\n",
            "dtype: object\n"
          ],
          "name": "stdout"
        }
      ]
    },
    {
      "cell_type": "code",
      "metadata": {
        "id": "wzIY-o6gmS32"
      },
      "source": [
        "#여기서 바로 원핫인코딩으로 넘어갔었는데 어차피 해봤자 핫인코디이 안되어있다.\r\n",
        "#왜냐하면 애초에 품종을 0,1,2 로 분류해서 얘를 숫자로 인식해서 범주형으로 인식하지 않기 때문이다.\r\n",
        "#그래서 품종 테이터 타입을 카테고리로 바꿔서 그 다음에 원핫인코딩을 해줘야 한다\r\n",
        "#참 번거롭다....."
      ],
      "execution_count": null,
      "outputs": []
    },
    {
      "cell_type": "code",
      "metadata": {
        "id": "cdE3CRJFm4BF"
      },
      "source": [
        "#품종타입을 범주형으로 바꾸어 주기\r\n",
        "\r\n",
        "아이리스['품종']= 아이리스['품종'].astype('category')\r\n",
        "print(아이리스.dtypes)\r\n",
        "\r\n",
        "#astype은 타입을 바꿔주는 함수다.R에서도 데이터의 형태를 바꿀때 다음과 같은 함수를 쓴다.\r\n",
        "#만약 카테고리를 다시 정수로 바꾸고 싶으면 괄호안에 int를 써주면 된다."
      ],
      "execution_count": null,
      "outputs": []
    },
    {
      "cell_type": "code",
      "metadata": {
        "id": "BdMqKFcMnhi4"
      },
      "source": [
        "#다시 카테고리 타입의 변수만 원핫인코딩\r\n",
        "인코딩 =pd.get_dummies(아이리스)\r\n",
        "인코딩.head()"
      ],
      "execution_count": null,
      "outputs": []
    },
    {
      "cell_type": "code",
      "metadata": {
        "id": "olAFDnvJnvom"
      },
      "source": [
        "#NA 값 체크해보기\r\n",
        "아이리스.isna().sum()\r\n",
        "#해당코드는 의문문으로 외워두면 기억하기 쉽다. Is () NA ~?\r\n",
        "아이리스.tail()"
      ],
      "execution_count": null,
      "outputs": []
    },
    {
      "cell_type": "code",
      "metadata": {
        "id": "BT1-1kYfoHvw"
      },
      "source": [
        "#결측값 (NA)에 꽃잎폭 평균값을 넣어주는 방법\r\n",
        "mean = 아이리스['꽃잎폭'].mean()\r\n",
        "print(mean)\r\n",
        "아이리스['꽃잎폭']= 아이리스['꽃잎폭'].fillna(mean)\r\n",
        "아이리스.tail()"
      ],
      "execution_count": null,
      "outputs": []
    },
    {
      "cell_type": "code",
      "metadata": {
        "id": "m30OQV5Sof7j"
      },
      "source": [
        ""
      ],
      "execution_count": null,
      "outputs": []
    }
  ]
}