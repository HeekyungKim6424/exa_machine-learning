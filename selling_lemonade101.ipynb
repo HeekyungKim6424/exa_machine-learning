{
  "nbformat": 4,
  "nbformat_minor": 0,
  "metadata": {
    "colab": {
      "name": "Untitled2.ipynb",
      "provenance": [],
      "authorship_tag": "ABX9TyO8AqG4NreFpn4YjrMiFT8i",
      "include_colab_link": true
    },
    "kernelspec": {
      "name": "python3",
      "display_name": "Python 3"
    }
  },
  "cells": [
    {
      "cell_type": "markdown",
      "metadata": {
        "id": "view-in-github",
        "colab_type": "text"
      },
      "source": [
        "<a href=\"https://colab.research.google.com/github/HeekyungKim6424/exa_machine-learning/blob/main/Untitled2.ipynb\" target=\"_parent\"><img src=\"https://colab.research.google.com/assets/colab-badge.svg\" alt=\"Open In Colab\"/></a>"
      ]
    },
    {
      "cell_type": "code",
      "metadata": {
        "id": "NinFhczE07Qr"
      },
      "source": [
        "#라이브러리 사용\r\n",
        "import tensorflow as tf\r\n",
        "import pandas as pd"
      ],
      "execution_count": 1,
      "outputs": []
    },
    {
      "cell_type": "code",
      "metadata": {
        "colab": {
          "base_uri": "https://localhost:8080/"
        },
        "id": "LXeG9rmB1HoG",
        "outputId": "531c4722-a05a-4572-b8c9-ad8b5276f600"
      },
      "source": [
        "#데이터 준비\r\n",
        "파일경로='https://raw.githubusercontent.com/blackdew/tensorflow1/master/csv/lemonade.csv'\r\n",
        "레몬에이드= pd.read_csv(파일경로)\r\n",
        "레몬에이드.head()\r\n",
        "\r\n",
        "#head는 판다스 라이브러리의 일종인것 같다. 데이터를 확인하는 방법으로 쓰이는것 같다\r\n",
        "#데이터를 확인하는 방법에는 head와 tail이 있다.\r\n",
        "#head는 데이터 프레임의 처음 n줄을 출력한다. n값은 디폴트로 5로 지정되어있다.\r\n",
        "#tail은 데이터 프레임의 마지막 n줄을 출력한다. n값은 역시 디폴트로 5로 지정되어있다.\r\n",
        "#R이랑 비슷한것 같다. 왜 교수님이 R이랑 파이썬을 묶어서 얘기했는지 알것같다."
      ],
      "execution_count": 3,
      "outputs": [
        {
          "output_type": "stream",
          "text": [
            "(6, 1) (6, 1)\n"
          ],
          "name": "stdout"
        }
      ]
    },
    {
      "cell_type": "code",
      "metadata": {
        "colab": {
          "base_uri": "https://localhost:8080/"
        },
        "id": "t5h1nOyV9tjp",
        "outputId": "73c71e23-4c06-4dca-c671-a8c0569f5955"
      },
      "source": [
        "#종속변수, 독립변수\r\n",
        "\r\n",
        "독립= 레몬에이드[['온도']]\r\n",
        "종속= 레몬에이드[['판매량']]\r\n",
        "#대괄호가 두번 들어가는 이유: 원래 판다스에서 특정 column을 인덱싱하기 위해서는 \r\n",
        "#df[column] 꼴로 해야하는데 거기 안에다 리스트를 넣어주면 \r\n",
        "#리스트 꼴이 원래 []안에 넣어야 하니깐....그래서 대괄호를 두번 씌우는것처럼 보임\r\n",
        "\r\n",
        "print(독립.shape,종속.shape)\r\n",
        "#.shape는 데이터를 튜플로 바꿔준다고 한다. 여기서는 그냥 튜플로 묶었다가 정확한것 같다.\r\n",
        "# 튜플이 뭐지 (파이썬에서 배웠는데 기억이 안나서...)검색해보니깐 리스트랑 거의 비슷한데\r\n",
        "#리스트는 []로 묶고, 튜플은 ()로 묶는다.\r\n",
        "#그리고 튜플은 안에 들어있는 원소를 수정할수 없다는게 특징이다."
      ],
      "execution_count": 5,
      "outputs": [
        {
          "output_type": "stream",
          "text": [
            "(6, 1) (6, 1)\n"
          ],
          "name": "stdout"
        }
      ]
    },
    {
      "cell_type": "code",
      "metadata": {
        "id": "xvgNgKsOAE_G"
      },
      "source": [
        "#이왕 말나온김에 해보는 데이터 프레임 관련 기본함수 알아보기\r\n",
        "\r\n",
        "# .shape :행과 열의 개수를 튜플로 반환\r\n",
        "# .dytpes : 열을 기준으로 데이터 형태 반환\r\n",
        "# .axes : 행과 열의 이름을 리스트로 반환\r\n",
        "# .T : 행과 열을 전치\r\n",
        "# 인덱싱은 종류가 인덱싱 내에서도 좀 갈려서 추후에 알아보는걸로.."
      ],
      "execution_count": 6,
      "outputs": []
    },
    {
      "cell_type": "code",
      "metadata": {
        "id": "nVoDE_RcAJQD"
      },
      "source": [
        "#모델 만들기\r\n",
        "\r\n",
        "X= tf.keras.layers.Input(shape=[1])\r\n",
        "#케라스는 텐서 라이브러리의 일종이다.\r\n",
        "#만약 어떤 층이 단 하나의 노드만을 가지고 있다면 (즉, 공유된 층이 아닌 경우)\r\n",
        "#입력 텐서를 위의 코드를 통해서 얻을 수 있다.\r\n",
        "\r\n",
        "Y = tf.keras.layers.Dense(1)(X)\r\n",
        "#Dense는 전결합층을 추가한다고 한다.(전결합층이 뭔지 모르겠다...)\r\n",
        "#전결합층은 어떤 층의 모든 뉴런이 이전 층의 모든 뉴런과 연결돼 있는 층이라고 한다. 여기선 x와 연결되어있는거 아닐까..?\r\n",
        "\r\n",
        "model = tf.keras.models.Model(X, Y) #해당코드가 모델을 만드는 코드다.\r\n",
        "model.compile(loss='mse')\r\n",
        "#컴파일(compile)은 원시코드에서 목적코드로 옮기는 과정이라고 한다.\r\n",
        "#맨 마지막줄은 손실함수라고 불리는데, 손실함수는 하나의 모델을 컴파일하기 위해 필요한 두개의 매개 변수 중 하나라고 한다.\r\n",
        "#아마 마지막코드로 오류를 최소화해서 컴파일 하는거 아닐까 싶다."
      ],
      "execution_count": 11,
      "outputs": []
    },
    {
      "cell_type": "code",
      "metadata": {
        "colab": {
          "base_uri": "https://localhost:8080/"
        },
        "id": "S3oDDvyTP84R",
        "outputId": "193c5e61-4760-4539-ec70-014b6c8700e3"
      },
      "source": [
        "#모델 학습시키기\r\n",
        "\r\n",
        "model.fit(독립, 종속, epochs=10000, verbose=0) \r\n",
        "#verbose는 화면출력을 끄는 옵션, epochs는 학습을 몇번 시킬지에 대해서 결정하는 옵션\r\n",
        "\r\n",
        "model.fit(독립, 종속, epochs=10)\r\n"
      ],
      "execution_count": 12,
      "outputs": [
        {
          "output_type": "stream",
          "text": [
            "Epoch 1/10\n",
            "1/1 [==============================] - 0s 4ms/step - loss: 1.6455e-04\n",
            "Epoch 2/10\n",
            "1/1 [==============================] - 0s 4ms/step - loss: 1.6448e-04\n",
            "Epoch 3/10\n",
            "1/1 [==============================] - 0s 4ms/step - loss: 1.6435e-04\n",
            "Epoch 4/10\n",
            "1/1 [==============================] - 0s 4ms/step - loss: 1.6434e-04\n",
            "Epoch 5/10\n",
            "1/1 [==============================] - 0s 4ms/step - loss: 1.6438e-04\n",
            "Epoch 6/10\n",
            "1/1 [==============================] - 0s 4ms/step - loss: 1.6438e-04\n",
            "Epoch 7/10\n",
            "1/1 [==============================] - 0s 4ms/step - loss: 1.6426e-04\n",
            "Epoch 8/10\n",
            "1/1 [==============================] - 0s 4ms/step - loss: 1.6426e-04\n",
            "Epoch 9/10\n",
            "1/1 [==============================] - 0s 4ms/step - loss: 1.6434e-04\n",
            "Epoch 10/10\n",
            "1/1 [==============================] - 0s 4ms/step - loss: 1.6427e-04\n"
          ],
          "name": "stdout"
        },
        {
          "output_type": "execute_result",
          "data": {
            "text/plain": [
              "<tensorflow.python.keras.callbacks.History at 0x7fbcfa172518>"
            ]
          },
          "metadata": {
            "tags": []
          },
          "execution_count": 12
        }
      ]
    },
    {
      "cell_type": "code",
      "metadata": {
        "colab": {
          "base_uri": "https://localhost:8080/"
        },
        "id": "T7Z8kAttRPnv",
        "outputId": "f2b44c8c-010e-42e0-9949-684847c2e96a"
      },
      "source": [
        "#모델 이용하기\r\n",
        "\r\n",
        "print(model.predict(독립))\r\n",
        "print(model.predict([[15]]))"
      ],
      "execution_count": 13,
      "outputs": [
        {
          "output_type": "stream",
          "text": [
            "[[40.018227]\n",
            " [42.01578 ]\n",
            " [44.013336]\n",
            " [46.01089 ]\n",
            " [48.008446]\n",
            " [50.006   ]]\n",
            "[[30.03045]]\n"
          ],
          "name": "stdout"
        }
      ]
    }
  ]
}
